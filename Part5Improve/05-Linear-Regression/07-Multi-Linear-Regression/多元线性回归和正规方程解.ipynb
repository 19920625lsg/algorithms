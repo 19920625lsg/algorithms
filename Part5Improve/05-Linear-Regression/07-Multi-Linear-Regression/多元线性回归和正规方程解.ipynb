{
 "cells": [
  {
   "cell_type": "markdown",
   "metadata": {},
   "source": [
    "# 多元线性回归和正规方程解\n",
    "\n",
    "## 多元线性回归的目标\n",
    "![多元线性回归方程的目标](images/多元线性回归方程的目标.png)\n",
    "\n",
    "## 多元线性回归的推导\n",
    "\n",
    "![多选线性回归推导1](images/多元线性回归推导1.png)\n",
    "![多选线性回归推导2](images/多元线性回归推导2.png)\n"
   ]
  },
  {
   "cell_type": "markdown",
   "metadata": {},
   "source": []
  },
  {
   "cell_type": "code",
   "execution_count": null,
   "metadata": {},
   "outputs": [],
   "source": []
  }
 ],
 "metadata": {
  "kernelspec": {
   "display_name": "Python 3",
   "language": "python",
   "name": "python3"
  },
  "language_info": {
   "codemirror_mode": {
    "name": "ipython",
    "version": 3
   },
   "file_extension": ".py",
   "mimetype": "text/x-python",
   "name": "python",
   "nbconvert_exporter": "python",
   "pygments_lexer": "ipython3",
   "version": "3.7.3"
  }
 },
 "nbformat": 4,
 "nbformat_minor": 4
}

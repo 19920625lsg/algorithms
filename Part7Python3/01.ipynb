{
 "cells": [
  {
   "cell_type": "markdown",
   "metadata": {},
   "source": [
    "# 第1章 Python入门导学"
   ]
  },
  {
   "cell_type": "markdown",
   "metadata": {},
   "source": [
    "## 1-1 导学\n",
    "\n",
    "\n",
    "### 一、基础语法\n",
    "\t\n",
    "+ 1.从最基本的变量到复杂的高阶函数\n",
    "+ 2.了解语法是编程的先决条件\n",
    "+ 3.精通语法是变好程的必要条件\n",
    "\n",
    "### 二、设计理念\n",
    "\n",
    "+ 1.面向对象（OOP）\n",
    "+ 2.Object Oriented Programming 面向对象编程\n",
    "+ 3.Object-oriented thinking 面向对象思想\n",
    "+ 4.Python思想之一：一切皆对象\n",
    "+ 5.Life is Simple,I Use Python 人生苦短，我用Python\n",
    "+ 6.Pythonic 很Python\t\n",
    "\n",
    "### 三、Python语法特点\n",
    "\n",
    "+ 1.简洁\n",
    "+ 2.非常易于学习\n",
    "    \n",
    "### 四、Python可以做些什么？\n",
    "\n",
    "+ 1.爬虫（reptile）\n",
    "+ 2.大数据（Big Data）\n",
    "+ 3.测试（test）\n",
    "+ 4.Web\n",
    "+ 5.AI(Artificial Intelligence)\n",
    "+ 6.脚本处理（Script processing）\n",
    "\n",
    "### 五、Python之禅\n",
    "\n",
    "+ 1.Simple is better than complex 简洁胜于复杂\n",
    "+ 2.Now is better than never. Although never is often better than *right* now 做也许好过不做，但不假思索就动手还不如不做"
   ]
  },
  {
   "cell_type": "markdown",
   "metadata": {},
   "source": [
    "## 1-2 Python的特性\n",
    "\n",
    "+ 1.一种编程语言，不是框架也不是类库\n",
    "+ 2.语法简单,优雅,编写的程序易于阅读\n",
    "+ 3.跨平台：Windows、Linux、MacOS\n",
    "+ 4.易学习：语法可阅读性强、高度抽象化（Python动态语言，Java静态语言）\n",
    "+ 5.库资源极为强大且丰富\n",
    "+ 6.面向对象"
   ]
  },
  {
   "cell_type": "markdown",
   "metadata": {},
   "source": [
    "## 1-3 我为什么喜欢Python\n",
    "\n",
    "+ 1.简洁、灵活、优雅、哲学\n",
    "+ 2.易于上手难于精通\n",
    "+ 3.python既有动态脚本、又有面向对象的特性，具备自己的特点"
   ]
  },
  {
   "cell_type": "markdown",
   "metadata": {},
   "source": [
    "## 1-4 Python的缺点\n",
    "\n",
    "缺点：慢（相较于C、C++、Java，运行效率慢，但也不是特别慢，一般感觉不到）\n",
    "\n",
    "+ 1.编译型语言（执行前先编译，编译成机器码，贴近机器，更快，适合底层开发）：c，c++\n",
    "+ 2.解释型语言（不编译，直接执行，适合上层开发）：python，javascript\n",
    "\n",
    "java，c#有编译，但不编译成机器码，算是一种中间语言\n",
    "\n",
    "运行效率和开发效率，鱼和熊掌不可兼得适合的才是最好的重点是编程功底"
   ]
  },
  {
   "cell_type": "markdown",
   "metadata": {},
   "source": [
    "## 1-5 一个经典误区\n",
    "\n",
    "经典误区：编程≠web编程\n",
    "\n",
    "世界不是只有Web，还有很多问题需要使用编程来解决，不要把思维局限在Web上，这只是编程的一个应用方向。\n",
    "\n",
    "Python应用方向非常广泛，前端，后台，小程序，人工智能，机器学习，大数据等无所不能编程是解决问题的工具，它有很多方面的应用。\n",
    "\n",
    "web是基础：爬虫，数据服务，数据分析，web编程是最好的语言学习实践"
   ]
  },
  {
   "cell_type": "markdown",
   "metadata": {},
   "source": [
    "## 1-6 Python能做些什么\n",
    "\n",
    "+ 1.爬虫\n",
    "+ 2.大数据与数据分析（spark）\n",
    "+ 3.自动化运维与自动化测试\n",
    "+ 4.web开发：flask、Django\n",
    "+ 5.机器学习：TensorFlow\n",
    "+ 6.胶水语言：混合其他如c++、Java等来编程。能够把用其他语言制作的各种模块很轻松的联结在一起，类似于一种万金油一样的语言"
   ]
  },
  {
   "cell_type": "markdown",
   "metadata": {},
   "source": [
    "## 1-7课程内容与特点\n",
    "\n",
    "+ 1.基础语法  \n",
    "  基础语法是任何语言的基础，只有熟练掌握，才能灵活运用语言，写出高效、优美、简洁的代码.  \n",
    "  Python的语法是非常灵活的又别具一格的。学习语言就要学习他的风格、特点，这才是语言的精辟。Python尤其如此\n",
    "+ 2.Pythonic  \n",
    "  比如将a、b两个变量的值交换  a,b=b,a\n",
    "+ 3.Python高性能与优化  \n",
    "  同样的一个功能，可能有数个乃至十种写法，但每种写法的性能与美观度是不同的。选择性能最高又易于理解的写法才是正确的 \n",
    "+ 4.数据结构  \n",
    "  尝试用Python来实现一些常见的数据结构，什么是扎实的编程功底？数据结构才是基础。"
   ]
  }
 ],
 "metadata": {
  "kernelspec": {
   "display_name": "Python 3",
   "language": "python",
   "name": "python3"
  },
  "language_info": {
   "codemirror_mode": {
    "name": "ipython",
    "version": 3
   },
   "file_extension": ".py",
   "mimetype": "text/x-python",
   "name": "python",
   "nbconvert_exporter": "python",
   "pygments_lexer": "ipython3",
   "version": "3.6.3"
  }
 },
 "nbformat": 4,
 "nbformat_minor": 2
}
